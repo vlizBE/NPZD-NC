{
 "cells": [
  {
   "cell_type": "markdown",
   "metadata": {},
   "source": [
    "# Manual Nutrient-Phytoplankton-Zooplankton-Detritus model\n",
    "\n",
    "Flander Marine Institute (Belgium)\n",
    "\n",
    "National Institute of Oceanography and Applied Geophysics (Italy)\n",
    "\n",
    "Date: 10/12/2021\n",
    "\n",
    "Last update: 09/12/2024\n",
    "\n",
    "*This is an interactive document.*\n",
    "\n",
    "## Content Table\n",
    "  1. Introduction  \n",
    "      1.1. Modeling Approach  \n",
    "      1.2. Input Data  \n",
    "      1.3. Study Area  \n",
    "  2. Preparation  \n",
    "      2.1. Join the virtual lab Zoo-Phytoplankton EOV  \n",
    "      2.2. Working Folder  \n",
    "      2.3. Input Data  \n",
    "      2.4. R scripts  \n",
    "      2.5. R packages  \n",
    "  3. NPZD Model  \n",
    "      3.1. Calibration: Run the NPZD model  \n",
    "      3.2. Calibration: Calculate the Root Mean Square Error  \n",
    "      3.3. Simulation: Run the NPZD model a second time  \n",
    "      3.4. Simulation: Calculate the Root Mean Square Error  \n",
    "      3.5. Simulation: Calculate the relative contribution of the environmental parameters to phytoplankton dynamics  \n",
    "      3.6. Visualization: Creating graphs with the results  \n",
    "  4. References  \n",
    "\n",
    "## 1. Introduction\n",
    "Here, we provide a workflow to run a mechanistic model of the NPZD-type (Nutrient-Phytoplankton-Zooplankton-Detritus), using near in-situ data to quantify the relative contributions of the bottom-up and top-down drivers in phytoplankton dynamics. NPZD models are commonly used and describe four ecosystem components, nutrients, phytoplankton, zooplankton, and detritus. This NPZD model with fixed elemental ratios is adjusted from the NPZD model of Soetaert and Herman (2009), Otero et al. (2023), and Schartau et al. (2007). The model resolves parts of the carbon and nitrogen cycle.\n",
    "In this model, phytoplankton dynamics are simulated based on information from nutrient concentrations and zooplankton density. Based on these simulations using in-situ data, it is possible to calculate and visualize the relative contribution of each bottom-up or top-down driver, i.e. (1) nutrients, (2) Sea Surface Temperature (SST), (3) photosynthetically active radiation (PAR) and (4) zooplankton grazing, over time (Figure 1).\n",
    "Carbon dynamics are simulated based on the marine biological carbon pump (Figure 1). The carbon pump in marine ecosystems operates as a key mechanism for carbon dynamics. During photosynthesis, the phytoplankton captures carbon from the atmosphere, converting it into organic matter in the pelagic food web. This carbon is then transported downward as plankton and other organic material die and sink, forming detritus. As the detritus descends through the water column, it undergoes decomposition and remineralization, releasing carbon back into the water as Dissolved Inorganic Carbon (DIC). This process not only regulates the distribution of carbon in the ocean but also plays a critical role in the global carbon cycle.\n",
    "\n",
    "Marine phytoplankton is at the base of the marine food web and regulates functions in coastal ecosystems. Changes observed in the marine plankton community are expected to have a knock-on effect throughout the food web. Therefore, understanding how primary production changes through time and space is of key importance to better quantify the effects of human activities and their impact on the ocean.\n",
    "\n",
    "With the methodology presented in this document, it is possible to analyze which factors drive the phytoplankton dynamics and how these factors change in space and time. Additionally, it is possible to simulate the carbon dynamics in the detritus compartment, i.e. carbon sequestration. This workflow initially focused on the Belgian part of the North Sea (BPNS), located in the southern part of the North Sea, where high density of observations are available. Now, it is extended to the Northern Adriatic region improving reproducibility of the workflow. For other regions, this document can be used as a guideline to perform similar analyses. It is important to note that the principles behind the modeling approach are universally applicable. When applying the model to another area recalibration of the model to the local conditions is required for optimal performance (cfr. section 3.1 and 3.2).\n",
    "\n",
    "We start by describing the input data, R scripts, and functions that were used for this Nutrient-Phytoplankton-Zooplankton (NPZD) model. Then, this manual will guide you step by step on how to run the NPZD model. At the end, phyto- and zooplankton dynamics will be simulated, and the relative contributions of the environmental parameters estimated.\n",
    "\n",
    "### 1.1. Modeling Approach\n",
    "\n",
    "The ecosystem model for Nutrient, Phytoplankton, Zooplankton, and Detritus was used to simulate changes in plankton density (Soetaert and Herman, 2009). This model describes daily changes in phyto- and zooplankton density based on abiotic parameters (Fig. 1).The variables in the model are expressed in mmol N m<sup>-3</sup> and mmol C m<sup>-3</sup>. Daily changes in these variables are expressed in  mmol N m<sup>-3</sup> d<sup>-1</sup> and mmol C m<sup>-3</sup> d<sup>-1</sup>.\n",
    "\n",
    "This model is useful to describe marine and freshwater systems. The state variables are nutrients, phytoplankton, zooplankton, and detritus. The workflow focused on a marine system and followed a similar methodology as described in Everaert et al. (2015). Nutrients are defined as the total density of Dissolved Inorganic Nitrogen (DIN), Phosphate (PO<sub>4</sub>) and Silicate (SiO<sub>4</sub>). DIN is defined as the sum of NH<sub>4</sub>, NO<sub>3</sub> and NO<sub>2</sub>.\n",
    "\n",
    "<img src=\"NPZD/Input data/NPZD.jpg\"/>\n",
    "\n",
    "*Figure 1*. The top figure illustrates the NPZD model in the ecosystem. The figure below shows the structure of the NPZD ecological model, with the state variables and main processes.\n",
    "\n",
    "### 1.2. Input Data\n",
    "\n",
    "The model requires the following input data: \n",
    "\n",
    "  1. Sea Surface Temperature (SST) in °C\n",
    "  2. Sea Surface Salinity (SSS) in PSU\n",
    "  3. Nutrients (DIN, PO<sub>4</sub>, SiO<sub>4</sub>) in mmol N m<sup>-3</sup> (or P or Si equivalent)\n",
    "  4. Carbon data (pCO<sub>2 atmosphere</sub>, windspeed, pH)\n",
    "  5. Threshold values for each parameter per region\n",
    "\n",
    "For calibration and validation:\n",
    "\n",
    "  1. Chlorophyll-a (µg Chl m<sup>-3</sup>)\n",
    "  2. Zooplankton abundances (ind m<sup>3-</sup>)\n",
    "  3. partial pressure of CO<sub>2</sub> (pCO<sub>2 seawater</sub>; µatm)\n",
    " \n",
    "\n",
    "### 1.3. Study Area\n",
    "\n",
    "This workflow is focused on the Belgian part of the North Sea (BPNS; Fig. 2), located in the southern part of the North Sea, and the Gulf of Trieste, located in the northern Adriatic Sea. \n",
    "\n",
    "For the BPNS, the following locations are the selected sampling stations used in the analyses presented in this document. We focused on nearshore, midshore, and offshore regions. We analysed one nearshore station (code 130 in the LifeWatch campaigns), one midshore (code 330) and seven offshore stations. The offshore stations were grouped to have a sufficient amount of data as the offshore region was sampled seasonally, whereas the other regions were sampled monthly.\n",
    "\n",
    "<img src=\"NPZD/Input data/map BPNS.png\"/>\n",
    "\n",
    "*Figure 2*. Location of the stations of interest in the Belgian Part of the North Sea. The black line indicates the Belgian Exclusive Economic Zone. The nearshore, midshore and offshore are <10km, 10km - 30km and >30km respectively in distance to the coast.\n",
    "\n",
    "For the Gulf of Trieste, the data was collected from the C1 station. This station lies in the nearshore region and is also used in the analyses presented in this document.\n",
    "\n",
    "<img src=\"NPZD/Input data/Gulf_of_Trieste.jpg\"/>\n",
    "\n",
    "*Figure 3*. Location of the station of interest (C1) in the Gulf of Trieste (northern Adriatic Sea).\n",
    "\n",
    "## 2. Preparation\n",
    "### 2.1 Join the Carbon Plankton Dynamics Virtual Lab\n",
    "In case you have not already, please create an account for the Blue Cloud (<https://blue-cloud.d4science.org/>) and join the Carbon Plankton Dynamics VLab.\n",
    "\n",
    "\n",
    "### 2.2 Working Folder\n",
    "A working folder is provided. This is done to structure the work and make sure that the model can find all the data it needs. By following this structure, fewer adjustments to directories are needed. Let's create additional folders in our working folder to store our output. The input data and R scripts should already be available in your home directory (*/home/jovyan/NPZD*) in your *NPZD* folder under *Input data* and *Rscripts*."
   ]
  },
  {
   "cell_type": "code",
   "execution_count": null,
   "metadata": {
    "vscode": {
     "languageId": "r"
    }
   },
   "outputs": [],
   "source": [
    "# set working directory\n",
    "wd =  \"~/NPZD/\"\n",
    "\n",
    "# create a folder with subfolders to store your results\n",
    "dir.create(paste0(wd, \"Output\"))\n",
    "dir.create(paste0(wd, \"Output/Intermediate results\"))\n",
    "dir.create(paste0(wd, \"Output/Final results\"))\n",
    "dir.create(paste0(wd, \"Output/Final results/NPZD\"))\n",
    "dir.create(paste0(wd, \"Output/Final results/Relative contributions\"))"
   ]
  },
  {
   "cell_type": "markdown",
   "metadata": {},
   "source": [
    "Now, there should be a folder called *NPZD* in your home space, containing the subfolders *Input data*, *Rscripts* and *Output*. These subfolders contain subfolders and data or R scripts. Having these files in our home space makes it possible to run the NPZD model.\n",
    "\n",
    "\n",
    "### 2.3 Input Data\n",
    "The input data that is required to perform an NPZD model is:\n",
    "  1. Sea Surface Temperature (SST) in °C\n",
    "  2. Sea Surface Salinity (SSS) in PSU\n",
    "  3. Nutrients (DIN, PO<sub>4</sub>, SiO<sub>4</sub>) in mmol N m<sup>-3</sup> (or P or Si equivalent)\n",
    "  4. Carbon data (pCO<sub>2 atmosphere</sub>, windspeed, pH)\n",
    "  5. Threshold values for each parameter per region\n",
    "\n",
    "The input data should be daily. If this is not the case for your input data, we would like to refer to some guidelines available on https://m-clark.github.io/generalized-additive-models/ and https://petolau.github.io/Analyzing-double-seasonal-time-series-with-GAM-in-R/ to create input data that is daily.\n",
    "\n",
    "Further, before running the NPZD model, the input data should be in the right format, i.e. .csv files, same order of the columns and same column names (Table 1), and the input data should be in the same units (see above). \n",
    "\n",
    "*Table 1*. An example of how the input data format looks like.\n",
    "\n",
    "| year |   DIN    |   Temp   |    po4    |   sio4   |   Date   | month |\n",
    "|:----:|:--------:|:--------:|:---------:|:--------:|:--------:|:-----:|\n",
    "| 2011 | 21.40159 | 6.755561 | 0.8334777 | 14.57773 | 1/1/2011 |   1   |\n",
    "| 2011 | 21.31936 | 6.734534 | 0.8274038 | 14.48865 | 1/2/2011 |   1   |\n",
    "| 2011 | 21.23713 | 6.713506 | 0.8213298 | 14.39957 | 1/3/2011 |   1   |\n",
    "| 2011 | 21.15490 | 6.692479 | 0.8152559 | 14.31049 | 1/4/2011 |   1   |\n",
    "| 2011 | 21.07267 | 6.671452 | 0.8091820 | 14.22141 | 1/5/2011 |   1   |\n",
    "| 2011 | 20.99044 | 6.650425 | 0.8031080 | 14.13233 | 1/6/2011 |   1   |\n",
    "\n",
    "*Table 2*. An example of how the carbon input data format looks like.\n",
    "|    Date    |   temp   |    sal   |    ph    | station |\n",
    "|:----------:|:--------:|:--------:|:--------:|:-------:|\n",
    "| 2012-01-01 | 11.39893 | 37.23230 | 8.614288 |    C1   |\n",
    "| 2012-01-02 | 11.36812 | 37.23396 | 8.605249 |    C1   |\n",
    "| 2012-01-03 | 11.33733 | 37.23561 | 8.596211 |    C1   |\n",
    "| 2012-01-04 | 11.30654 | 37.23726 | 8.587173 |    C1   |\n",
    "| 2012-01-05 | 11.27575 | 37.23891 | 8.578136 |    C1   |"
   ]
  },
  {
   "cell_type": "markdown",
   "metadata": {},
   "source": [
    "### 2.4 R scripts\n",
    "The R scripts in the subfolder *NPZD* under *Rscript* contain functions that are used to run the model. They are called and loaded automatically when running this Jupyter Notebook.\n",
    "\n",
    "\n",
    "### 2.5 R packages\n",
    "Before we start running the NPZD model, we want to make sure all the needed R packages are properly installed. With the code below, we check if the R packages that we will use are installed. If this is not the case, it will install the R packages that are missing."
   ]
  },
  {
   "cell_type": "code",
   "execution_count": null,
   "metadata": {
    "vscode": {
     "languageId": "r"
    }
   },
   "outputs": [],
   "source": [
    "source(paste0(wd, \"Rscripts/NPZD/function_installed_packages.R\"))\n",
    "\n",
    "load_all_packages()"
   ]
  },
  {
   "cell_type": "markdown",
   "metadata": {},
   "source": [
    "## 3. NPZD Model\n",
    "\n",
    "If you already have balanced the model, you can skip to section 3.3 after providing the 'needed' information and number of iterations below. If you are running the model for the first time, calibrating the model to your environmental settings is required and you start at section 3.1.\n",
    "\n",
    "Let's provide the information on our data, such as location, code of the station, region of the station or start- and stopdate of the observations where the samples were taken. This information is used throughout the manuscript, e.g. to extract observations, calibration and validation. "
   ]
  },
  {
   "cell_type": "code",
   "execution_count": null,
   "metadata": {
    "vscode": {
     "languageId": "r"
    }
   },
   "outputs": [],
   "source": [
    "# load function\n",
    "source(paste0(wd, \"Rscripts/NPZD/function_retrieve_data_and_GAM.R\"))\n",
    "# get information needed to run the model\n",
    "get_needed_information() "
   ]
  },
  {
   "cell_type": "markdown",
   "metadata": {},
   "source": [
    "### 3.1 Calibration: Run the NPZD model\n",
    "We can start calibrating the NPZD model. First, we run the NPZD with threshold values aggregated from literature for each parameter.\n",
    "\n",
    "*Used Rscripts:*\n",
    "  - *functions_NPZD_parallel_iter1.R*\n",
    "  - *function_retrieve_data_and_GAM.R*\n",
    "  - *functions_carbon.R*\n",
    "\n",
    "We start with loading the associated functions and R packages, that we will need during this first step."
   ]
  },
  {
   "cell_type": "code",
   "execution_count": null,
   "metadata": {
    "vscode": {
     "languageId": "r"
    }
   },
   "outputs": [],
   "source": [
    "#NPZD Model - Parallel version\n",
    "#Iteration 1\n",
    "##########\n",
    "source(paste0(wd, \"Rscripts/NPZD/functions_NPZD_parallel_iter1.R\"))\n",
    "source(paste0(wd, \"Rscripts/NPZD/function_retrieve_data_and_GAM.R\"))\n",
    "source(paste0(wd, \"Rscripts/NPZD/functions_carbon.R\"))"
   ]
  },
  {
   "cell_type": "markdown",
   "metadata": {},
   "source": [
    "Then we load our input data for our station of interest."
   ]
  },
  {
   "cell_type": "code",
   "execution_count": null,
   "metadata": {
    "vscode": {
     "languageId": "r"
    }
   },
   "outputs": [],
   "source": [
    "#get data from station of interest\n",
    "inputData <- get_inputdata(station_region, station_code, startdate, stopdate)\n",
    "carbon_inputData <- req_vars_co2(startdate, stopdate, station_code, station_region)"
   ]
  },
  {
   "cell_type": "markdown",
   "metadata": {},
   "source": [
    "Now, we decide how many iterations the NPZD model will do. For our publication, we selected 5000 as a good balance between quality and processing time. It is possible to change the number of iterations, for example 500 is suitable for a first trial. Then, we create 500 initial combinations for the parameters based on their threshold values in literature. In addition, we write a .csv file with the possible parameters and store it in the output folder."
   ]
  },
  {
   "cell_type": "code",
   "execution_count": null,
   "metadata": {
    "vscode": {
     "languageId": "r"
    }
   },
   "outputs": [],
   "source": [
    "number_of_iterations()\n",
    "\n",
    "# Simulation parameters, variations based on random values\n",
    "###########create file################\n",
    "possible_parameters <- create_parameters(numSimulations, station_region)\n",
    "dir.create(paste0(wd, \"Output/Intermediate results/station\", station_region,\"_iter1\"))\n",
    "write.csv(possible_parameters, paste0(wd, \"Output/Intermediate results/station\", station_region,\"_iter1/possible_parameters_iter1.csv\"))"
   ]
  },
  {
   "cell_type": "markdown",
   "metadata": {},
   "source": [
    "Now, it is time to run the NPZD model for each combination of parameters, e.g. 500 times. This will be done in parallel to speed up the process. This means that we will use several cores of the server in this case. You can specify how many cores you want to use in the line containing \"cores <- num_cores - 1\". We left one core free, but you can choose to leave more cores free. It necessary to leave at least 1 core free as this core will be used to manage the other cores.\n",
    "\n",
    "The output of the model is stored in a subfolder of the output folder, and will have a name such as \"detailed_simulation_255.csv\""
   ]
  },
  {
   "cell_type": "code",
   "execution_count": null,
   "metadata": {
    "vscode": {
     "languageId": "r"
    }
   },
   "outputs": [],
   "source": [
    "#Simulate NPZD model for each combination of parameters i\n",
    "#Parallel\n",
    "num_cores <- detectCores()\n",
    "cores <- num_cores - 1\n",
    "cl <- makeCluster(cores)\n",
    "registerDoParallel(cl)\n",
    "\n",
    "text_NPZD <- foreach(i = 1:numSimulations, .combine = rbind) %dopar% {\n",
    "    tryCatch({\n",
    "      npzd_run(as.numeric(stopdate - startdate)+1, possible_parameters[i,], station_region, inputData, station_lat, station_lon, sample_depth)   \n",
    "    }, error = function(e) return(paste0(\"Error in NPZD iteration: \", i, \n",
    "                                         \", caused error: \", e)))        \n",
    "  \n",
    "  }\n",
    "\n",
    "\n",
    "stopImplicitCluster()\n",
    "stopCluster(cl)"
   ]
  },
  {
   "cell_type": "markdown",
   "metadata": {},
   "source": [
    "### 3.2 Calibration 2: Calculate the Root Mean Square Error\n",
    "Time to see how well the model simulated phyto-and zooplankton dynamics. In this step, we compare the model results with observation data. This is done by calculating the Root Mean Square Error (RMSE). The best-fitted models, i.e. the models of which the total RMSE was the lowest, will be selected to update the threshold value of the model's parameters. By doing this, we optimize the model to make realistic predictions. The parameters of the best 10% simulations are used to optimize the threshold values of the parameters. Then, we can run the model for a second time.\n",
    "\n",
    "*Used R script:*\n",
    "  - *functions_error_v1.R*\n",
    "  \n",
    "    \n",
    "We start by loading the functions that we will use in this step."
   ]
  },
  {
   "cell_type": "code",
   "execution_count": null,
   "metadata": {
    "vscode": {
     "languageId": "r"
    }
   },
   "outputs": [],
   "source": [
    "#Error analysis NPZD model\n",
    "source(paste0(wd, \"Rscripts/NPZD/functions_error_v1.R\"))"
   ]
  },
  {
   "cell_type": "markdown",
   "metadata": {},
   "source": [
    "We load the *in situ* data, e.g. chlorophyll-a observations, for the time interval set before."
   ]
  },
  {
   "cell_type": "code",
   "execution_count": null,
   "metadata": {
    "vscode": {
     "languageId": "r"
    }
   },
   "outputs": [],
   "source": [
    "get_validation_data()"
   ]
  },
  {
   "cell_type": "markdown",
   "metadata": {},
   "source": [
    "The calculateErrors() function stores all simulations that were not successful, which is used to remove them. \n",
    "Here, we calculate the total RMSE of each model run. With the total RMSE, we can find the best model parameters, i.e. the one of which the total RMSE is the lowest."
   ]
  },
  {
   "cell_type": "code",
   "execution_count": null,
   "metadata": {
    "vscode": {
     "languageId": "r"
    }
   },
   "outputs": [],
   "source": [
    "simulations_error <- calculateErrors(station_region, chla, zoo_aggregated, pco2w_validation, numSimulations)\n",
    "\n",
    "#############################\n",
    "#Extract best simulations\n",
    "#############################\n",
    "simulations_error <- simulations_error[!is.na(simulations_error$ID_sim),]\n",
    "numSim <- nrow(simulations_error)"
   ]
  },
  {
   "cell_type": "markdown",
   "metadata": {},
   "source": [
    "The best ten percent (0.1) of simulations will be selected. It is possible to specify the percentage of your choice."
   ]
  },
  {
   "cell_type": "code",
   "execution_count": null,
   "metadata": {
    "vscode": {
     "languageId": "r"
    }
   },
   "outputs": [],
   "source": [
    "#Select the best simulation based on a percentage\n",
    "numSim_select <- trunc(numSim*0.1)\n",
    "\n",
    "#analysis error based on RMSE\n",
    "order_error <- simulations_error[order(simulations_error$total_rmse),]\n",
    "min_error_rmse <- order_error[c(1:numSim_select),]\n",
    "quantile(min_error_rmse$total_rmse)"
   ]
  },
  {
   "cell_type": "markdown",
   "metadata": {},
   "source": [
    "We can visualize the simulations in combination with the observations. This can be done for a daily time series and for monthly. We can visually check if the model did a good job."
   ]
  },
  {
   "cell_type": "code",
   "execution_count": null,
   "metadata": {
    "vscode": {
     "languageId": "r"
    }
   },
   "outputs": [],
   "source": [
    "#####Create graphs of results with best simulations as time series\n",
    "#based on RMSE\n",
    "bestSim_graphs_rmse <- createBestSim(min_error_rmse$ID_sim, station_region, chla, zoo_aggregated, pco2w_validation)\n",
    "\n",
    "#####Create monthly comparison\n",
    "simulations_best_rmse <- bestSimulations(min_error_rmse$ID_sim, station_region)\n",
    "graph_best_rmse_monthly <- monthlyBestSimulations(simulations_best_rmse, chla, zoo_aggregated,pco2w_validation)\n",
    "graph_best_rmse_monthly"
   ]
  },
  {
   "cell_type": "markdown",
   "metadata": {},
   "source": [
    "After a visual control, we select new parameter threshold values based on the 10% best runs from the previous iteration to optimize the model. To further optimize the model, we select the 10% best parameter values for spring conditions and the 10% best parameter values for summer-autumn conditions."
   ]
  },
  {
   "cell_type": "code",
   "execution_count": null,
   "metadata": {
    "vscode": {
     "languageId": "r"
    }
   },
   "outputs": [],
   "source": [
    "#######################################\n",
    "#Select parameters for next iteration\n",
    "#######################################\n",
    "\n",
    "#Punishment in spring and summer months\n",
    "simulations_error_penalized <- increaseError_springSummer(simulations_error, station_region, chla)\n",
    "\n",
    "#Total_rmse_2 for spring\n",
    "order_error2 <- simulations_error_penalized[order(simulations_error_penalized$total_rmse_2),]\n",
    "min_error_rmse2 <- order_error2[c(1:numSim_select),]\n",
    "\n",
    "bestSim_graphs_spring <- createBestSim(min_error_rmse2$ID_sim, station_region, chla, zoo_aggregated,pco2w_validation)\n",
    "\n",
    "bestSim_spring <- bestSimulations(min_error_rmse2$ID_sim, station_region)\n",
    "graph_monthly_spring <- monthlyBestSimulations(bestSim_spring, chla, zoo_aggregated,pco2w_validation)\n",
    "\n",
    "#Compare selection with non penalized set\n",
    "comparison_spring<-data.frame(matrix(nrow = numSim_select, ncol = 2))\n",
    "names(comparison_spring)[1] <- \"rmse1_ID\"\n",
    "names(comparison_spring)[2] <- \"in_rmse2\"\n",
    "\n",
    "comparison_spring$rmse1_ID <- min_error_rmse$ID_sim\n",
    "comparison_spring$in_rmse2 <- comparison_spring$rmse1_ID %in% min_error_rmse2$ID_sim\n",
    "\n",
    "#count(comparison_spring$in_rmse2)\n",
    "\n",
    "#Total_rmse_3 for summer\n",
    "order_error3 <- simulations_error_penalized[order(simulations_error_penalized$total_rmse_3),]\n",
    "min_error_rmse3 <- order_error3[c(1:numSim_select),]\n",
    "\n",
    "bestSim_graphs_summer <- createBestSim(min_error_rmse3$ID_sim, station_region, chla, zoo_aggregated,pco2w_validation)\n",
    "\n",
    "bestSim_summer <- bestSimulations(min_error_rmse3$ID_sim, station_region)\n",
    "graph_monthly_summer <- monthlyBestSimulations(bestSim_summer, chla, zoo_aggregated,pco2w_validation)\n",
    "\n",
    "#Compare selection with non penalized set\n",
    "comparison_summer<-data.frame(matrix(nrow = numSim_select, ncol = 2))\n",
    "names(comparison_summer)[1] <- \"rmse1_ID\"\n",
    "names(comparison_summer)[2] <- \"in_rmse3\"\n",
    "\n",
    "comparison_summer$rmse1_ID <- min_error_rmse$ID_sim\n",
    "comparison_summer$in_rmse3 <- comparison_summer$rmse1_ID %in% min_error_rmse3$ID_sim"
   ]
  },
  {
   "cell_type": "markdown",
   "metadata": {},
   "source": [
    "After selecting the 10% best parameters, we create two new files, one with the parameter threshold values for the spring conditions and one for summer-autumn conditions. The new files are stored in the data folder and will be used as input in the next model iteration."
   ]
  },
  {
   "cell_type": "code",
   "execution_count": null,
   "metadata": {
    "vscode": {
     "languageId": "r"
    }
   },
   "outputs": [],
   "source": [
    "##########################################\n",
    "#Create file of parameters for iteration 2\n",
    "#########################################\n",
    "\n",
    "#Parameters for January to June\n",
    "newParameters_spring <- createNewParameters_def(min_error_rmse2, 2,4)\n",
    "write.csv(newParameters_spring, paste0(wd, \"Input data/parameters_5000_iter2_spring_station\", station_region, \".csv\"))\n",
    "\n",
    "#Parameters for July to December\n",
    "newParameters_summer <- createNewParameters_def(min_error_rmse3, 2,4)\n",
    "write.csv(newParameters_summer, paste0(wd, \"Input data/parameters_5000_iter2_summer_station\", station_region, \".csv\"))"
   ]
  },
  {
   "cell_type": "markdown",
   "metadata": {},
   "source": [
    "### 3.3 Simulation: Run the NPZD model\n",
    "Let's run the NPZD model a second time, but now we use the updated threshold values created in the previous iteration. \n",
    "\n",
    "*Used R script:*\n",
    "  - *functions_NPZD_parallel_iter2_artifact.R*\n",
    "\n",
    "First, we start again by loading the functions and R packages needed to run the model. "
   ]
  },
  {
   "cell_type": "code",
   "execution_count": null,
   "metadata": {
    "vscode": {
     "languageId": "r"
    }
   },
   "outputs": [],
   "source": [
    "#NPZD Model - Parallel version\n",
    "#Iteration 2\n",
    "\n",
    "##########\n",
    "source(paste0(wd, \"Rscripts/NPZD/functions_NPZD_parallel_iter2_artifact.R\"))"
   ]
  },
  {
   "cell_type": "markdown",
   "metadata": {},
   "source": [
    "Similar to the first step (3.1), we create starting combinations for the parameters based on their threshold value defined by the previous iteration. This is done twofold, once for the spring conditions and once for the summer-autumn conditions. In addition, we write .csv files for both conditions, with the possible parameters, and store them in the output folder."
   ]
  },
  {
   "cell_type": "code",
   "execution_count": null,
   "metadata": {
    "vscode": {
     "languageId": "r"
    }
   },
   "outputs": [],
   "source": [
    "#Get data generated using GAM for DIN, PO4, SiO4, and temperature\n",
    "inputData <- read.csv(paste0(wd, \"Input data/inputData_npzd_station\", station_region,\".csv\"))\n",
    "\n",
    "#Simulation parameters, variations based on random values\n",
    "###########create file################\n",
    "#Create parameters for penalized values - from January to 21 June\n",
    "parameters_values1 <- read.csv(paste0(wd, \"Input data/parameters_5000_iter2_spring_station\", station_region, \".csv\"))\n",
    "possible_parameters_1 <- create_parameters(numSimulations, parameters_values1, 1)\n",
    "dir.create(paste0(wd, \"Output/Final results/NPZD/station\", station_region,\"_iter2\"))\n",
    "write.csv(possible_parameters_1, paste0(wd, \"Output/Final results/NPZD/station\", station_region,\"_iter2/possible_parameters_spring_iter2.csv\"))\n",
    "\n",
    "#Create parameters - from 22 June to December\n",
    "parameters_values2 <- read.csv(paste0(wd, \"Input data/parameters_5000_iter2_summer_station\", station_region, \".csv\"))\n",
    "possible_parameters_2 <- create_parameters(numSimulations, parameters_values2, 2)\n",
    "write.csv(possible_parameters_2, paste0(wd, \"Output/Final results/NPZD/station\", station_region,\"_iter2/possible_parameters_summer_iter2.csv\"))"
   ]
  },
  {
   "cell_type": "markdown",
   "metadata": {},
   "source": [
    "For the second time, we will run the NPZD model for each combination of parameters of the spring and summer-autumn conditions. This will also be done in parallel to speed up the process. This means that we will use several cores of the server in this case. You can specify how many cores you want to use in the line containing \"cores <- num_cores - 1\". We left 1 core free, but you can choose to leave more cores free. It is necessary to leave at least 1 core free as this core will be used to manage the other cores.\n",
    "The output of the model is stored in a subfolder of the output folder, and will have a name such as \"detailed_simulation_255.csv\""
   ]
  },
  {
   "cell_type": "code",
   "execution_count": null,
   "metadata": {
    "vscode": {
     "languageId": "r"
    }
   },
   "outputs": [],
   "source": [
    "#Simulate NPZD model for each combination of parameters i\n",
    "#Parallel\n",
    "\n",
    "num_cores <- detectCores()\n",
    "cores <- num_cores - 1\n",
    "cl <- makeCluster(cores)\n",
    "registerDoParallel(cl)\n",
    "\n",
    "text_NPZD <- foreach(i = 1:numSimulations, .combine = rbind, .packages = \"lubridate\") %dopar% {\n",
    "  tryCatch({\n",
    "    npzd_run(as.numeric(stopdate - startdate)+1, possible_parameters_1[i,], possible_parameters_2[i,], station_region, inputData, station_lat, station_lon, sample_depth)   \n",
    "  }, error = function(e) return(paste0(\"Error in NPZD iteration: \", i, \n",
    "                                       \", caused error: \", e)))        \n",
    "  \n",
    "}\n",
    "\n",
    "stopImplicitCluster()\n",
    "stopCluster(cl)\n"
   ]
  },
  {
   "cell_type": "markdown",
   "metadata": {},
   "source": [
    "### 3.4 Simulation: Calculate the Root Mean Square Error\n",
    "Again, we calculate the RMSEs to see how well the model simulated phyto- and zooplankton dynamics. Now, we will select the best 10% to simulate the plankton dynamics and estimate the uncertainty of the simulations, i.e. provide a 95% confidence interval. \n",
    "\n",
    "*Used R script:*\n",
    "  - *functions_error_iter2*\n",
    "\n",
    "We load the functions that we will use first."
   ]
  },
  {
   "cell_type": "code",
   "execution_count": null,
   "metadata": {
    "vscode": {
     "languageId": "r"
    }
   },
   "outputs": [],
   "source": [
    "#Error analysis NPZD model\n",
    "source(paste0(wd, \"Rscripts/NPZD/functions_error_iter2.R\"))"
   ]
  },
  {
   "cell_type": "markdown",
   "metadata": {},
   "source": [
    "We load the *in situ* data, e.g. chlorophyll-a observations, for the time interval set before."
   ]
  },
  {
   "cell_type": "code",
   "execution_count": null,
   "metadata": {
    "vscode": {
     "languageId": "r"
    }
   },
   "outputs": [],
   "source": [
    "get_validation_data()"
   ]
  },
  {
   "cell_type": "markdown",
   "metadata": {},
   "source": [
    "We calculate the total RMSE for the second iteration compared to the observation. The 10% best simulations are then selected to calculate and visualize phyto- and zooplankton dynamics. Here, it is also possible to adjust the percentage (0.1) to your choice. The results are stored in a subfolder of the output folder."
   ]
  },
  {
   "cell_type": "code",
   "execution_count": null,
   "metadata": {
    "vscode": {
     "languageId": "r"
    }
   },
   "outputs": [],
   "source": [
    "simulations_error <- calculateErrors(station_region, chla, zoo_aggregated, pco2w_validation, numSimulations)\n",
    "\n",
    "#############################\n",
    "#Extract best simulations\n",
    "#############################\n",
    "simulations_error <- simulations_error[!is.na(simulations_error$ID_sim),]\n",
    "numSim <- nrow(simulations_error)\n",
    "\n",
    "#Select the best simulation based on a percentage\n",
    "numSim_select <- trunc(numSim*0.10)\n",
    "\n",
    "#analysis error based on RMSE\n",
    "order_error <- simulations_error[order(simulations_error$total_rmse),]\n",
    "min_error_rmse <- order_error[c(1:numSim_select),]\n",
    "quantile(min_error_rmse$total_rmse)\n",
    "\n",
    "#####Create graphs of results with best simulations as time series\n",
    "#based on RMSE\n",
    "bestSim_graphs_rmse <- createBestSim(min_error_rmse$ID_sim, station_region, chla, zoo_aggregated, pco2w_validation)"
   ]
  },
  {
   "cell_type": "markdown",
   "metadata": {},
   "source": [
    "Again, we can visually check how the model performed."
   ]
  },
  {
   "cell_type": "code",
   "execution_count": null,
   "metadata": {
    "vscode": {
     "languageId": "r"
    }
   },
   "outputs": [],
   "source": [
    "#####Create monthly comparison\n",
    "simulations_best_rmse <- bestSimulations(min_error_rmse$ID_sim, station_region)\n",
    "graph_best_rmse_monthly <- monthlyBestSimulations(simulations_best_rmse, chla, zoo_aggregated,pco2w_validation)\n",
    "graph_best_rmse_monthly"
   ]
  },
  {
   "cell_type": "markdown",
   "metadata": {},
   "source": [
    "### 3.5 Simulation: Calculate the relative contribution of the environmental parameters to phytoplankton dynamics\n",
    "In this step, we will use the best 10% of simulations to estimate the relative contribution of the environmental parameters to phytoplankton dynamics. You can select the best 5% to decrease computational effort.\n",
    "\n",
    "*Used R script:*\n",
    "  - *functions_relativeContributions_iter2.R*\n",
    "\n",
    "We load the function and R packages that are used in this script."
   ]
  },
  {
   "cell_type": "code",
   "execution_count": null,
   "metadata": {
    "vscode": {
     "languageId": "r"
    }
   },
   "outputs": [],
   "source": [
    "#Relative contributions calculation\n",
    "source(paste0(wd, \"Rscripts/NPZD/functions_relativeContributions_iter2.R\"))\n",
    "#library(viridis)"
   ]
  },
  {
   "cell_type": "markdown",
   "metadata": {},
   "source": [
    "We load our results with the total RMSE from the subfolder in the output folder. We select only the 10% best simulations to calculate the relative contribution of the key drivers of primary production."
   ]
  },
  {
   "cell_type": "code",
   "execution_count": null,
   "metadata": {
    "vscode": {
     "languageId": "r"
    }
   },
   "outputs": [],
   "source": [
    "#Load error per simulation\n",
    "error_log <- read.csv(paste0(wd, \"Output/Final results/NPZD/station\", station_region, \"_iter2/errors_parameters_iter2.csv\"))\n",
    "error_log <- error_log[which(!is.na(error_log$total_rmse)),]\n",
    "\n",
    "#order simulations from lowest to highest error\n",
    "order_error <- error_log[order(error_log$total_rmse),]\n",
    "\n",
    "#select best simulations (10% or 5%)\n",
    "percentage <- 0.1\n",
    "numSim <- trunc(percentage * nrow(order_error))\n",
    "#numSim<-100\n",
    "selectedSim <- order_error[1:numSim,]"
   ]
  },
  {
   "cell_type": "markdown",
   "metadata": {},
   "source": [
    "Finally, we calculate the relative contribution of the key drivers, i.e. nutrients (DIN, PO~4~ and SiO~4~), SST, PAR and zooplankton grazing. The results are stored in a subfolder (\"relativeContributions_smooth\") in the output folder and named for example \"contributionsNormalized_month_stationnearshore.csv\". If the following error occurs, you will have to restart the kernel.\n",
    "Error in base::nchar(wide_chars$test, type = \"width\"): lazy-load database '/opt/conda/lib/R/library/cli/R/sysdata.rdb' is corrupt."
   ]
  },
  {
   "cell_type": "code",
   "execution_count": null,
   "metadata": {
    "vscode": {
     "languageId": "r"
    }
   },
   "outputs": [],
   "source": [
    "#This function calculates the relative contributions per month per simulation\n",
    "relativeContributions <- calculateContributions(selectedSim, station_region)\n",
    "\n",
    "write.csv(relativeContributions, paste0(wd, \"Output/Final results/Relative contributions/relativeContributions_month_station\", station_region, \".csv\"))\n",
    "\n",
    "contributions_aggregated <- aggregate(relativeContributions$Contribution, by=list(relativeContributions$Date, relativeContributions$Type), FUN=\"mean\",  data = relativeContributions)\n",
    "\n",
    "names(contributions_aggregated)[1] <- \"Date\"\n",
    "names(contributions_aggregated)[2] <- \"Type\"\n",
    "names(contributions_aggregated)[3] <- \"Contribution\"\n",
    "\n",
    "#Normalize data because of the median approximation\n",
    "contributions_plot <- normalizeData(contributions_aggregated)\n",
    "\n",
    "write.csv(contributions_plot, paste0(wd, \"Output/Final results/Relative contributions/contributionsNormalized_month_station\", station_region, \".csv\"))"
   ]
  },
  {
   "cell_type": "markdown",
   "metadata": {},
   "source": [
    "### 3.6 Visualization: Creating graphs with the results\n",
    "Now that everything is simulated, calculated, and estimated, it's time to visualize our results. We provide a couple of examples on how the results can be visualized.\n",
    "\n",
    "*Used R scripts:*\n",
    "  - *functions_graphs.r*\n",
    "  - *functions_relativeContributions_iter2.R*\n",
    "\n",
    "We load the functions that are necessary to run this script."
   ]
  },
  {
   "cell_type": "code",
   "execution_count": null,
   "metadata": {
    "vscode": {
     "languageId": "r"
    }
   },
   "outputs": [],
   "source": [
    "source(paste0(wd, \"Rscripts/NPZD/functions_graphs.r\"))\n",
    "source(paste0(wd, \"Rscripts/NPZD/functions_relativeContributions_iter2.R\"))"
   ]
  },
  {
   "cell_type": "markdown",
   "metadata": {},
   "source": [
    "Then we process some results to get the phyto- and zooplankton dynamics ready to visualize, i.e. select the best simulations. This function extracts the details of the 10% best simulations for the station. For more details, have a look at the script \"functions_graphs.r\". The function can take a while to run and it returns monthly values per simulation."
   ]
  },
  {
   "cell_type": "code",
   "execution_count": null,
   "metadata": {
    "vscode": {
     "languageId": "r"
    }
   },
   "outputs": [],
   "source": [
    "suppressWarnings({ # warnings are suppressed here as there are quite a lot to mention that NA values are created. This can be ignored here.\n",
    "#This function extracts the details of the 10% best simulations for station\n",
    "#See more details in the script of \"functions_graphs.r\"\n",
    "#The function takes a while to run\n",
    "#The function returns monthly values per simulation\n",
    "all_output_complete <- getBestSim(station_region)\n",
    "     })"
   ]
  },
  {
   "cell_type": "markdown",
   "metadata": {},
   "source": [
    "After the processing, we can visualize the phyto-and zooplankton dynamics together in one plot."
   ]
  },
  {
   "cell_type": "code",
   "execution_count": null,
   "metadata": {
    "vscode": {
     "languageId": "r"
    }
   },
   "outputs": [],
   "source": [
    "# Graph phytoplankton & zooplankton\n",
    "graph_phyto_zoo()\n",
    "comparisonGrap_chla_zoo "
   ]
  },
  {
   "cell_type": "markdown",
   "metadata": {},
   "source": [
    "We can visualize the phytoplankton dynamics separately.\n",
    "If the following error occurs, you will have to restart the kernel.\n",
    "*Error in base::nchar(wide_chars$test, type = \"width\"): lazy-load database '/opt/conda/lib/R/library/cli/R/sysdata.rdb' is corrupt*."
   ]
  },
  {
   "cell_type": "code",
   "execution_count": null,
   "metadata": {
    "vscode": {
     "languageId": "r"
    }
   },
   "outputs": [],
   "source": [
    "graph_phyto()\n",
    "comparisonGraphAvg_chla"
   ]
  },
  {
   "cell_type": "markdown",
   "metadata": {},
   "source": [
    "We can visualize the zooplankton dynamics separately."
   ]
  },
  {
   "cell_type": "code",
   "execution_count": null,
   "metadata": {
    "vscode": {
     "languageId": "r"
    }
   },
   "outputs": [],
   "source": [
    "graph_zoo()\n",
    "comparisonGraphAvg_zoo"
   ]
  },
  {
   "cell_type": "markdown",
   "metadata": {},
   "source": [
    "Let's have a look at the carbon in the detritus compartiment."
   ]
  },
  {
   "cell_type": "code",
   "execution_count": null,
   "metadata": {
    "vscode": {
     "languageId": "r"
    }
   },
   "outputs": [],
   "source": [
    "# detritus in carbon and nitrogen\n",
    "detritus_graphs()"
   ]
  },
  {
   "cell_type": "markdown",
   "metadata": {},
   "source": [
    "Or we can look at the dissolved carbon in the seawater."
   ]
  },
  {
   "cell_type": "code",
   "execution_count": null,
   "metadata": {
    "vscode": {
     "languageId": "r"
    }
   },
   "outputs": [],
   "source": [
    "# pCO2w with observations\n",
    "pco2w_graph()"
   ]
  },
  {
   "cell_type": "markdown",
   "metadata": {},
   "source": [
    "The relative contribution can also be visualized. This example gives the relative contribution of each parameter for primary production.\n",
    "\n",
    "Now, we can have a look at the relative contribution by visualizing it with the following code."
   ]
  },
  {
   "cell_type": "code",
   "execution_count": null,
   "metadata": {
    "vscode": {
     "languageId": "r"
    }
   },
   "outputs": [],
   "source": [
    "# possible graph types: line, boxplot or both\n",
    "relative_contribution_graph(type = 'both')\n",
    "\n",
    "# displaying the graphs: relative_contribution_line or relative_contribution_boxplot\n",
    "relative_contribution_line\n",
    "relative_contribution_boxplot"
   ]
  },
  {
   "cell_type": "markdown",
   "metadata": {},
   "source": [
    "Let's save our graphs in a subfolder called 'Graphs' in the 'Output' folder.\n"
   ]
  },
  {
   "cell_type": "code",
   "execution_count": null,
   "metadata": {
    "vscode": {
     "languageId": "r"
    }
   },
   "outputs": [],
   "source": [
    "dir.create(paste0(wd, \"Output/Graphs\")) # create an subfolder for your graphs\n",
    "ggsave(\"Phyto- and zooplankton dynamics.jpeg\", plot = comparisonGraphAvg_station_chla_zoo, path = paste0(wd, \"Output/Graphs\"),\n",
    "       width = 28,  height = 14,  units = \"cm\", dpi = 300)\n",
    "ggsave(\"Phytoplankton dynamics.jpeg\", plot = comparisonGraphAvg_station_chla, path = paste0(wd, \"Output/Graphs\"),\n",
    "       width = 28,  height = 14,  units = \"cm\", dpi = 300)\n",
    "ggsave(\"Zooplankton dynamics.jpeg\", plot = comparisonGraphAvg_station_zoo, path = paste0(wd, \"Output/Graphs\"),\n",
    "       width = 28,  height = 14,  units = \"cm\", dpi = 300)\n",
    "ggsave(\"Detritus dynamics.jpeg\", plot = graphs_detritus, path = paste0(wd, \"Output/Graphs\"),\n",
    "       width = 28,  height = 14,  units = \"cm\", dpi = 300)\n",
    "ggsave(\"pCO2w dynamics.jpeg\", plot = graphs_pco2w, path = paste0(wd, \"Output/Graphs\"),\n",
    "       width = 28,  height = 14,  units = \"cm\", dpi = 300)\n",
    "ggsave(\"Relative contributions.jpeg\", plot = comparisonGraph, path = paste0(wd, \"Output/Graphs\"),\n",
    "       width = 28,  height = 14,  units = \"cm\", dpi = 300)\n",
    "ggsave(\"Boxplot relative contributions.jpeg\", plot = comparisonContribution, path = paste0(wd, \"Output/Graphs\"),\n",
    "       width = 20,  height = 14,  units = \"cm\", dpi = 300)"
   ]
  },
  {
   "cell_type": "markdown",
   "metadata": {},
   "source": [
    "In case you want to store the results for sharing them, you can copy them manually to your workspace through the file organizer on the right of the screen or using the code below. Do not forget to change the directories, i.e. the folder you want to create, the folder in your homespace (local_folder_output) you want to copy, and the folder in your workspace where you will paste the files."
   ]
  },
  {
   "cell_type": "code",
   "execution_count": null,
   "metadata": {
    "vscode": {
     "languageId": "r"
    }
   },
   "outputs": [],
   "source": [
    "#create a new folder to store the results in \n",
    "#dir.create(\"~/workspace/NPZD_results_3\") # create a working folder for your results\n",
    "\n",
    "# copy and past files using R\n",
    "local_folder_output <- \"~/NPZD/Rscripts\"   # change to published folder\n",
    "workspace_folder <- \"~/workspace/NPZD_github\"\n",
    "\n",
    "file.copy(local_folder_output, workspace_folder, recursive=TRUE)"
   ]
  },
  {
   "cell_type": "markdown",
   "metadata": {},
   "source": [
    "That's all folks!!\n",
    "\n",
    "\n",
    "# 4. References\n",
    "\n",
    "Everaert, G., De Laender, F., Goethals, P.L.M, Janssen, C.R (2015). Relative contribution of persistent organic pollutants to marine phytoplankton biomass dynamics in the North Sea and the Kattegat. Chemosphere 134, 76-83. http://dx.doi.org/10.1016/j.chemosphere.2015.03.084\n",
    "\n",
    "Soetaert, K., Herman, P.M.J. (2009). A practical guide to ecological modelling. Using R as a Simulation Platform. Springer-Verlag, New York, US, p. 54 - 58.\n",
    "\n",
    "Van Ginderdeuren, K., Van Hoey, G., Vincx, M. and Hostens, K. (2014). The mesozooplankton community of the Belgian shelf (North Sea). Journal of Sea Research 85, 48 - 58. http://dx.doi.org/10.1016/j.seares.2013.10.003\n",
    "\n",
    "## Data sets\n",
    "Flanders Marine Institute (VLIZ): Marine Information and Data Acquisition System: Underway & Cruise data, 2017.\n",
    "\n",
    "Flanders Marine Institute (VLIZ): LifeWatch observatory data: phytoplankton observations by imaging flow cytometry (FlowCam) in the Belgian Part of the North Sea., doi:https://doi.org/10.14284/330, 2019.\n",
    "\n",
    "Flanders Marine Institute (VLIZ): LifeWatch observatory data: nutrient, pigment, suspended matter and secchi measurements in the Belgian Part of the North Sea., doi:https://doi.org/10.14284/441, 2021.\n",
    "\n",
    "Flanders Marine Institute (VLIZ): LifeWatch observatory data: zooplankton observations in the Belgian Part of the North Sea., doi:https://doi.org/10.14284/445, 2021.\n",
    "\n",
    "Mortelmans, J., Deneudt, K., Cattrijsse, A., Beauchard, O., Daveloose, I., Vyverman, W., Vanaverbeke, J., Timmermans, K., Peene, J., Roose, P., Knockaert, M., Chou, L., Sanders, R., Stinchcombe, M., Kimpe, P., Lammens, S., Theetaert, H., Gkritzalis, T., Hernandez, F. and Mees, J.: Nutrient, pigment, suspended matter and turbidity measurements in the Belgian part of the North Sea, Sci. Data, 6(1), 1–8, doi:10.1038/s41597-019-0032-7, 2019.\n",
    "\n",
    "Mortelmans, J., Aubert, A., Reubens, J., Otero, V., Deneudt, K. and Mees, J.: Copepods (Crustacea: Copepoda) in the Belgian part of the North Sea: Trends, dynamics and anomalies, J. Mar. Syst., 220(April), doi:10.1016/j.jmarsys.2021.103558, 2021.\n",
    "\n"
   ]
  }
 ],
 "metadata": {
  "kernelspec": {
   "display_name": "R",
   "language": "R",
   "name": "ir"
  },
  "language_info": {
   "codemirror_mode": "r",
   "file_extension": ".r",
   "mimetype": "text/x-r-source",
   "name": "R",
   "pygments_lexer": "r",
   "version": "4.3.1"
  }
 },
 "nbformat": 4,
 "nbformat_minor": 4
}
